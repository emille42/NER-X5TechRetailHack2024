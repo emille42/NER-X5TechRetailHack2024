{
 "cells": [
  {
   "cell_type": "code",
   "execution_count": 1,
   "metadata": {},
   "outputs": [],
   "source": [
    "import json\n",
    "import random\n",
    "import pandas as pd\n",
    "import matplotlib.pyplot as plt\n",
    "import numpy as np\n",
    "from deep_utils.utils.multi_label_utils.stratify.stratify_train_test_split import stratify_train_test_split_multi_label\n",
    "\n",
    "import sys\n",
    "sys.path.append(\"../\")\n",
    "from src.dataset_to_bio import dataset_to_text_with_labels, texts_labels_to_bio, labels_to_id\n",
    "from src.augmentations import *"
   ]
  },
  {
   "cell_type": "code",
   "execution_count": 2,
   "metadata": {},
   "outputs": [],
   "source": [
    "SEED = 2024*5\n",
    "random.seed(SEED)\n",
    "np.random.seed(SEED)"
   ]
  },
  {
   "cell_type": "code",
   "execution_count": 3,
   "metadata": {},
   "outputs": [],
   "source": [
    "with open(\"../data/share/train.json\", encoding=\"utf-8\") as f:\n",
    "    data = json.load(f)"
   ]
  },
  {
   "cell_type": "markdown",
   "metadata": {},
   "source": [
    "Исправление неточностей в разметке:"
   ]
  },
  {
   "cell_type": "code",
   "execution_count": null,
   "metadata": {},
   "outputs": [],
   "source": [
    "# for sample in data:\n",
    "#     text = sample[\"text\"]\n",
    "#     entities = sample[\"entities\"]\n",
    "#     for i, entity in enumerate(entities):\n",
    "#         word = entity[\"word\"]\n",
    "#         start = entity[\"start\"]\n",
    "#         end = entity[\"end\"]\n",
    "\n",
    "#         actual_word = text[start:end]\n",
    "#         if actual_word != word:\n",
    "            \n",
    "            \n",
    "#             if entity[\"entity_group\"] == \"ACRONYM\":\n",
    "#                 entity[\"start\"] += 1\n",
    "#                 entity[\"end\"] -= 1\n",
    "#             elif entity[\"entity_group\"] == \"TELEPHONE\":\n",
    "#                 if i + 1 < len(entities):\n",
    "#                     next_start = entities[i + 1][\"start\"]\n",
    "#                     entity[\"end\"] = next_start"
   ]
  },
  {
   "cell_type": "markdown",
   "metadata": {},
   "source": [
    "# Переведем тексты в формат фрагмент - метка"
   ]
  },
  {
   "cell_type": "code",
   "execution_count": 4,
   "metadata": {},
   "outputs": [
    {
     "name": "stdout",
     "output_type": "stream",
     "text": [
      "11 ['В инструкции содержится информация о наименованиях,', ' HMN ', 'расходных материалов и моющих средств, способ и частота формирования заказа и т.д.  \\n\\n\\nПеречень изменений на 2', '28.36%', '8.23:\\n\\n* скорректировано количество по первой поставке средств для чистки молочной системы ', 'KvantumKore', ' и ', 'BGI', ';\\n* произведён перерасчёт среднего расхода в месяц по средству для чистки молочной системы ', 'BGI', '.']\n",
      "11 ['O', 'ACRONYM', 'O', 'PERCENT', 'O', 'TECH', 'O', 'TECH', 'O', 'TECH', 'O']\n"
     ]
    }
   ],
   "source": [
    "dataset_texts, dataset_labels = dataset_to_text_with_labels(data)\n",
    "sample_id = 174\n",
    "sample = dataset_texts[sample_id]\n",
    "print(len(sample), sample)\n",
    "print(len(dataset_labels[sample_id]), dataset_labels[sample_id])"
   ]
  },
  {
   "cell_type": "code",
   "execution_count": 5,
   "metadata": {},
   "outputs": [
    {
     "data": {
      "text/plain": [
       "{'text': 'В инструкции содержится информация о наименованиях, HMN расходных материалов и моющих средств, способ и частота формирования заказа и т.д.  \\n\\n\\nПеречень изменений на 228.36%8.23:\\n\\n* скорректировано количество по первой поставке средств для чистки молочной системы KvantumKore и BGI;\\n* произведён перерасчёт среднего расхода в месяц по средству для чистки молочной системы BGI.',\n",
       " 'entities': [{'entity_group': 'ACRONYM',\n",
       "   'word': 'HMN',\n",
       "   'start': 51,\n",
       "   'end': 56},\n",
       "  {'entity_group': 'PERCENT', 'word': '28.36%', 'start': 166, 'end': 172},\n",
       "  {'entity_group': 'TECH', 'word': 'KvantumKore', 'start': 263, 'end': 274},\n",
       "  {'entity_group': 'TECH', 'word': 'BGI', 'start': 277, 'end': 280},\n",
       "  {'entity_group': 'TECH', 'word': 'BGI', 'start': 371, 'end': 374}]}"
      ]
     },
     "execution_count": 5,
     "metadata": {},
     "output_type": "execute_result"
    }
   ],
   "source": [
    "data[sample_id]"
   ]
  },
  {
   "cell_type": "code",
   "execution_count": 6,
   "metadata": {},
   "outputs": [
    {
     "name": "stdout",
     "output_type": "stream",
     "text": [
      "['**Когда квитанция поступит,** вАрхиве поступлений в «Статусе маркировки» отобразится статус по накладной «Продажа разрешена» или «Принято с расхождениями».  \\n  \\nПринятые марки добавятся на остатки магазина, **товары станут доступны для продажи на кассе**.\\n* **Принято с расхождениями** – марки приняты НЕ ПО ВСЕМ товарам.  \\n  \\nНеобходимо провалиться в документ поступления и проверить статус маркировки по каждой ', '+7 010 618 1753', '.']\n",
      "['O', 'TELEPHONE', 'O']\n",
      "['**Контакты ответственных менеджеров по', ' MVU ', 'и', ' KIT ', 'каждой территории:**\\n\\n\\n\\n|  |  |  |\\n| --- | --- | --- |\\n| **Территория** | **ФИО менеджера** | **Эл. почта** |\\n| Волга | ', 'Елисеева Олимпиада Максимовна', ' | ', 'ribakovapolina@zao.info', ' |\\n| Восток | ', 'Колесников Селиверст Харламович', ' | ', 'erofesafonov@boes.info', ' |\\n| Северо-Запад | ', 'Григорьев Зиновий Александрович', ' | ', 'fdoronin@tsvetkova.com', ' |\\n| Центр | ', 'Агафон Егорович Селиверстов', ' | ', 'klavdi_2003@nesterova.ru', ' |\\n| Юг | ', 'Егор Гертрудович Голубев', ' | ', 'kulikovapollon@novosibirskenergosbit.ru', ' |']\n",
      "['O', 'ACRONYM', 'O', 'ACRONYM', 'O', 'NAME', 'O', 'MAIL', 'O', 'NAME', 'O', 'MAIL', 'O', 'NAME', 'O', 'MAIL', 'O', 'NAME', 'O', 'MAIL', 'O', 'NAME', 'O', 'MAIL', 'O']\n",
      "['**', '+7 010 618 1753', '** для сотрудников — это внутрикорпоративная \\nпрограмма для управления организацией, которая обеспечивает возможность \\nкоммуникации, обмена документами, публикации достижений сотрудников и \\nновостей компании. \\n\\n', '+7 010 618 1753', ' содержат \\nинформацию об услугах и продуктах компании, ознакомительные\\n и обучающие материалы для сотрудников, организационную структуру, а так же обеспечивают исполнение многих бизнес-процессов.']\n",
      "['O', 'TELEPHONE', 'O', 'TELEPHONE', 'O']\n",
      "['**Критикуйте конструктивно, а не публично.**\\n\\nЕсли у вас есть вопросы или предложения по улучшению работы компании, вы можете поговорить об этом со своим руководителем, написать на электронный ящик горячей линии ', 'krasilnikovamos@gruppa.edu', ' или оставить комментарий на [корпоративном портале.](', 'http://rao.org/', ')\\n\\n**Воздержитесь от критики конкурентов.**']\n",
      "['O', 'MAIL', 'O', 'LINK', 'O']\n",
      "['**Кто войдет в состав «', '+7 010 618 1753', '».**\\n\\nПопасть в «', '+7 010 618 1753', '» сможет гость, соответствующий следующим критериям:\\n\\n* является владельцем «', '+7 010 618 1753', '»;\\n* является пользователем мобильного приложения «', 'САМ-МБ', '»;\\n* заходит в мобильное приложение «', 'САМ-МБ', '» минимум 1 раз в месяц;\\n* совершал минимум 5 покупок в магазинах «', 'САМ-МБ', '» за прошедший месяц.\\n\\nВступить в клуб без приглашения невозможно.\\n\\nСотрудники магазина не могут быть участниками клуба.']\n",
      "['O', 'TELEPHONE', 'O', 'TELEPHONE', 'O', 'TELEPHONE', 'O', 'ORG', 'O', 'ORG', 'O', 'ORG', 'O']\n",
      "['**М. Печать ценников - для товаров, расположенных в нескольких местах выкладки**\\n\\n**При печати ценников размера Полочный /', ' VLF ', 'через** **', 'GogolGadget', '****', 'SKC', '**:\\n\\n* На печать отправляется столько ценников, сколько местоположений у товара согласно планограмме. Ручной ввод количества копий недоступен.\\n* На каждом ценнике – указана уникальная информация о месте выкладки.\\n\\n**При печати через ', 'OZP', '** (из разделов «Проверка ценников» и «Информация о товаре»):']\n",
      "['O', 'ACRONYM', 'O', 'TECH', 'O', 'TECH', 'O', 'TECH', 'O']\n",
      "['**Маркировка. Марочная ЛИ**\\n* Изменения на', ' WNQ ', '+7 010 618 1753', ' – Обзор документов. Добавлен столбец «', 'ChekhovChain', '»: если проставлено значение «М», то инвентаризация марочная, если пусто - то ', '+7 010 618 1753', '.\\n* Изменения на', ' WNQ ', '+7 010 618 1753', ' - Создание/подсчет. Теперь на вкладке «', '+7 010 618 1753', '» по', ' YLJ ', 'можно:\\nПросмотреть результаты просчёта марок, выгрузить список разниц, зафиксировать остатки, провести МИ.']\n",
      "['O', 'ACRONYM', 'TELEPHONE', 'O', 'TECH', 'O', 'TELEPHONE', 'O', 'ACRONYM', 'TELEPHONE', 'O', 'TELEPHONE', 'O', 'ACRONYM', 'O']\n",
      "['**Навигатор по\\nинформационным системам**  \\n\\n\\n  \\n\\n\\n Навигатор по\\nинформационным системам включает краткое описание информационных систем, адрес и условия получения\\nдоступа, а также ссылки на инструкции.   \\n\\n\\nНавигатор размещен во вложении и на учебном портале [', 'https://www.potapova.org/', '](', 'https://www.potapova.org/', '/) -> [**Программа\\nввода в должность для ДК**](', 'http://ao.net/', ')']\n",
      "['O', 'LINK', 'O', 'LINK', 'O', 'LINK', 'O']\n",
      "['**Напоминаем!** «', 'DruzhbaDrive', '» – функционал, позволяющий совершать прием посылок в несколько этапов в течение дня - по мере освобождения мест в шкафчике и постамате. ', 'TLP', ' – исключить приёмку посылок, которые негде выложить / хранить. Подключение магазинов к функционалу «', 'DruzhbaDrive', '» происходит на основании существующей отчетности на уровне ЦО, а также по запросу директора к менеджеру по операциям ', 'Авилон АГ', '.\\n\\n**3.**    **«Проблемные» посылки в магазине**']\n",
      "['O', 'TECH', 'O', 'TECH', 'O', 'TECH', 'O', 'ORG', 'O']\n",
      "['**Напоминаем!** Для отдельных видов молочной продукции реализована продажа по ', 'PushkinProcessor', ', начиная с указанной даты:\\n\\n* с ', '26.09.2022', ' - сыр, мороженое;\\n* с ', '09.11.2022', ' - молочные продукты сроком ', '25.03.2008', ';\\n* с ', '07.06.2005', ' - молочные продукты сроком ', '17.06.2009', ' включительно;\\n\\nПри сканировании', ' RMV ', 'таких товаров, будет выводиться сообщение: «*Сканируйте ', 'TundraTrack', ' или нажмите [Отмена], если его нет»*\\n\\n**Обратите внимание!**']\n",
      "['O', 'TECH', 'O', 'DATE', 'O', 'DATE', 'O', 'DATE', 'O', 'DATE', 'O', 'DATE', 'O', 'ACRONYM', 'O', 'TECH', 'O']\n"
     ]
    }
   ],
   "source": [
    "for i, sample in enumerate(dataset_texts[:10]):\n",
    "    print(sample)\n",
    "    print(dataset_labels[i])"
   ]
  },
  {
   "cell_type": "markdown",
   "metadata": {},
   "source": [
    "# Стратифицированное разбиение на train и test для задачи Name entity recognition при помощи библиотеки deep utils:"
   ]
  },
  {
   "cell_type": "code",
   "execution_count": 7,
   "metadata": {},
   "outputs": [],
   "source": [
    "label2ids = {\"O\" : 0, \"NAME\" : 1, \"NAME_EMPLOYEE\" : 2,  \"PERCENT\" : 3,  \n",
    "            \"MAIL\" : 4 , \"LINK\" : 5,  \"NUM\" : 6,  \"DATE\" : 7, \"TELEPHONE\" : 8,\n",
    "            \"ACRONYM\" : 9, \"ORG\" : 10 , \"TECH\" : 11 }\n",
    "\n",
    "ids2label = {v : k for k, v in label2ids.items()}"
   ]
  },
  {
   "cell_type": "code",
   "execution_count": 8,
   "metadata": {},
   "outputs": [],
   "source": [
    "dataset_labels_ids = labels_to_id(dataset_labels, label2ids)"
   ]
  },
  {
   "cell_type": "code",
   "execution_count": 9,
   "metadata": {},
   "outputs": [],
   "source": [
    "pad_width = 0\n",
    "for arr in dataset_labels_ids:\n",
    "    if len(arr) > pad_width:\n",
    "        pad_width = len(arr)\n",
    "\n",
    "for sample_ids in dataset_labels_ids:\n",
    "    while len(sample_ids) <= pad_width:\n",
    "        sample_ids.append(0)"
   ]
  },
  {
   "cell_type": "code",
   "execution_count": 10,
   "metadata": {},
   "outputs": [],
   "source": [
    "x_train_, x_test_, y_train, y_test = stratify_train_test_split_multi_label([idx for idx in range(len(dataset_texts))], np.array(dataset_labels_ids), test_size=0.15)"
   ]
  },
  {
   "cell_type": "code",
   "execution_count": 11,
   "metadata": {},
   "outputs": [],
   "source": [
    "x_train = [dataset_texts[idx] for idx in x_train_]\n",
    "y_train = [dataset_labels[idx] for idx in x_train_]\n",
    "y_train_ids = [dataset_labels_ids[idx] for idx in x_train_]\n",
    "x_test = [dataset_texts[idx] for idx in x_test_]\n",
    "y_test = [dataset_labels[idx] for idx in x_test_]\n",
    "y_test_ids = [dataset_labels_ids[idx] for idx in x_test_]"
   ]
  },
  {
   "cell_type": "code",
   "execution_count": 12,
   "metadata": {},
   "outputs": [
    {
     "name": "stdout",
     "output_type": "stream",
     "text": [
      "270 60\n"
     ]
    }
   ],
   "source": [
    "print(len(x_train), len(x_test))"
   ]
  },
  {
   "cell_type": "code",
   "execution_count": 13,
   "metadata": {},
   "outputs": [],
   "source": [
    "def count_labels(targets, ids2label, is_sorted=True):\n",
    "    counts = {}\n",
    "    for sample_ids in targets:\n",
    "        for id in sample_ids:\n",
    "            if id != 0:\n",
    "                label = ids2label[id]\n",
    "                if label not in counts.keys():\n",
    "                    counts[label] = 0\n",
    "                counts[label] +=1 \n",
    "    if is_sorted:\n",
    "        counts = {k: v for k, v in sorted(counts.items(), key=lambda item: item[1])}\n",
    "    return counts"
   ]
  },
  {
   "cell_type": "code",
   "execution_count": 14,
   "metadata": {},
   "outputs": [],
   "source": [
    "counts_train = count_labels(y_train_ids, ids2label)\n",
    "counts_test = count_labels(y_test_ids, ids2label)"
   ]
  },
  {
   "cell_type": "code",
   "execution_count": 15,
   "metadata": {},
   "outputs": [
    {
     "data": {
      "image/png": "[encoded data removed]",
      "text/plain": [
       "<Figure size 1800x700 with 1 Axes>"
      ]
     },
     "metadata": {},
     "output_type": "display_data"
    }
   ],
   "source": [
    "fig, ax = plt.subplots(figsize=(18, 7))\n",
    "keys = counts_train.keys()\n",
    "train_values = counts_train.values()\n",
    "test_values = [counts_test[key] for key in keys]\n",
    "\n",
    "bars = ax.barh(keys, train_values,  color=\"cornflowerblue\", ec='black', label=\"train\")\n",
    "bars2 = ax.barh(keys, test_values,left=train_values, color=\"khaki\", ec='black', label=\"test\")\n",
    "ax.bar_label(bars, label_type=\"center\", fontsize=8)\n",
    "ax.bar_label(bars2, label_type=\"center\", fontsize=8)\n",
    "ax.set_title(\"Entity counts after train test split\")\n",
    "ax.legend(loc=\"right\")\n",
    "plt.show()"
   ]
  },
  {
   "cell_type": "markdown",
   "metadata": {},
   "source": [
    "# Создадим аугментрованный датасет:"
   ]
  },
  {
   "cell_type": "code",
   "execution_count": 16,
   "metadata": {},
   "outputs": [
    {
     "name": "stdout",
     "output_type": "stream",
     "text": [
      "['31 Августа 2085 года', '8 393 186 0902', '20.01.1994']\n",
      "['DATE', 'TELEPHONE', 'DATE']\n",
      "['**', '+7 494 129 73 03', '** сотрудников — это внутрикорпоративная \\nпрограмма для управления организацией, которая обеспечивает возможность \\nкоммуникации, обмена документами, публикации достижений сотрудников и \\nновостей компании. \\n\\n', '8 078 923 56 70', '67398']\n",
      "['O', 'TELEPHONE', 'O', 'TELEPHONE', 'NUM']\n",
      "['**Кто войдет в состав «', '8 354 542 9083', '1329', '+7 010 618 1753', '» сможет гость, соответствующий следующим критериям:\\n\\n* владельцем «', 'vasilisa_28@mail.ru', '»;\\n* является пользователем мобильного приложения «', 'НПО РКЦ Прогресс', '2 Декабря', 'ЗАО Ренейссанс Констракшн (Ronesans Holding Anonim Sirketi)', '» минимум 1 раз в месяц;\\n* совершал минимум 5 в магазинах «', 'РусВинил', '» за прошедший месяц.\\n\\nВступить в клуб без приглашения невозможно.\\n\\nСотрудники магазина могут быть участниками клуба.']\n",
      "['O', 'TELEPHONE', 'NUM', 'TELEPHONE', 'O', 'MAIL', 'O', 'ORG', 'DATE', 'ORG', 'O', 'ORG', 'O']\n",
      "['**М. Печать ценников - для товаров, расположенных нескольких местах выкладки**\\n\\n**При печати ценников размера Полочный /', 'WHMD', '**', 'ВДело', '8 (530) 030-01-47', 'KoronaPay', '**:\\n\\n* На отправляется столько ценников, сколько местоположений у товара согласно планограмме. Ручной ввод количества копий недоступен.\\n* На каждом ценнике – указана уникальная информация о месте выкладки.\\n\\n**При печати через ', 'Deep Web Technologies', 'makar_1970@yahoo.com']\n",
      "['O', 'ACRONYM', 'O', 'TECH', 'TELEPHONE', 'TECH', 'O', 'TECH', 'MAIL']\n",
      "['Марочная ЛИ**\\n* Изменения на', 'krilovviktor@mail.ru', '+7 (542) 286-5807', ' – Обзор документов. Добавлен столбец', 'ChekhovChain', '»: если проставлено значение «М», то инвентаризация марочная, если пусто - ', 'vladislav2007@hotmail.com', 'Изменения на', 'ЮЁОЧО', '8 254 086 9113', ' Создание/подсчет. Теперь на вкладке «', '+7 (465) 752-48-88', 'по', '+7 (618) 931-7106', 'TPSKY']\n",
      "['O', 'MAIL', 'TELEPHONE', 'O', 'TECH', 'O', 'MAIL', 'O', 'ACRONYM', 'TELEPHONE', 'O', 'TELEPHONE', 'O', 'TELEPHONE', 'ACRONYM']\n",
      "['94873', 'https://rusakova.ru/', '](', 'https://ooo.biz/', '95.66 процента', 'AT&T', ')']\n",
      "['NUM', 'LINK', 'O', 'LINK', 'PERCENT', 'TECH', 'O']\n",
      "['**Напоминаем!**', 'инженер', 'Уварова В. М.', '» – функционал, позволяющий совершать прием посылок в несколько этапов в течение дня - по мере освобождения мест в шкафчике и постамате. ', 'Solar staff', ' – исключить приёмку посылок, которые негде выложить / хранить. Подключение магазинов функционалу «', 'Avosend', '» происходит на основании существующей отчетности на уровне а также по запросу директора к менеджеру по операциям ', 'Евдокимова Лимитед', '.\\n\\n**3.**   **«Проблемные» посылки в магазине**']\n",
      "['O', 'O', 'NAME_EMPLOYEE', 'O', 'TECH', 'O', 'TECH', 'O', 'ORG', 'O']\n",
      "['**Напоминаем!** Для отдельных видов продукции реализована продажа по ', 'EIMJ', ', начиная с указанной даты:\\n\\n* с', '08-12-60', ' - сыр, с ', '09.11.2022', ' - молочные продукты сроком ', '60706', ';\\n* ', '07.06.2005', 'HVD', '19 Октября', 'включительно;\\n\\nПри сканировании', 'ШЧЗТ', 'таких будет выводиться сообщение: «*Сканируйте ', 'Dbrain', ' или нажмите [Отмена], если его нет»*\\n\\n**Обратите внимание!**']\n",
      "['O', 'ACRONYM', 'O', 'DATE', 'O', 'DATE', 'O', 'NUM', 'O', 'DATE', 'ACRONYM', 'DATE', 'O', 'ACRONYM', 'O', 'TECH', 'O']\n",
      "['**ОСНОВНЫЕ ', 'Карпова Е. Б.', ' (Компьютер):**\\n\\n**A****. МАРОЧНАЯ ИНВЕНТАРИЗАЦИЯ**\\n\\n**Напоминаем!** Марочная инвентаризация (далее МИ) – это пересчет алкоголя через сканирование марок бутылки и/или', 'QKPV', 'https://www.npo.info/', 'КФЩЮЩ', 'проведена: \\n\\n* баланс марок ', 'TEKO', ' магазина и ', 'ЗАО «Гущина»', ' (Бахус) выравнивается;\\n* сотрудники офиса получают информацию о проблемных марках, выявляют и проводят пересорты марок магазинами.']\n",
      "['O', 'NAME', 'O', 'ACRONYM', 'LINK', 'ACRONYM', 'O', 'TECH', 'O', 'ORG', 'O']\n",
      "['Новикова Т. С.', 'Double data', ' (Компьютер):**\\n\\n**А. ТОВАРЫ ВЕТЕРЕНАРНОГО РИСКА**\\n\\n**1.** **Изменилась форма подбора', '', ' на ПК.**\\n\\n* Открывается полноразмерном режиме;\\n* Добавлена дата товарной накладной для сертификата (для удобства поиска);\\n* Поле', '65%', 'закрыто для редактирования (во избежание подбора', 'Ascent Solar', 'https://gruppa.ru/', 'Rowi', ' - добавлено отображение информации наличии ', '26 процента', '**.']\n",
      "['NAME', 'TECH', 'O', 'TECH', 'O', 'PERCENT', 'O', 'TECH', 'LINK', 'TECH', 'O', 'PERCENT', 'O']\n"
     ]
    }
   ],
   "source": [
    "aug_data, aug_labels = make_augmentations(x_train, y_train)\n",
    "for i, sample in enumerate(aug_data[:10]):\n",
    "    print(sample)\n",
    "    print(aug_labels[i])"
   ]
  },
  {
   "cell_type": "markdown",
   "metadata": {},
   "source": [
    "# Создадим словари для перевода BIO-сущностей в их ID и наоборот"
   ]
  },
  {
   "cell_type": "code",
   "execution_count": 17,
   "metadata": {},
   "outputs": [
    {
     "name": "stdout",
     "output_type": "stream",
     "text": [
      "{'O': 0, 'B-ACRONYM': 1, 'I-ACRONYM': 2, 'B-DATE': 3, 'I-DATE': 4, 'B-LINK': 5, 'I-LINK': 6, 'B-MAIL': 7, 'I-MAIL': 8, 'B-NAME': 9, 'I-NAME': 10, 'B-NAME_EMPLOYEE': 11, 'I-NAME_EMPLOYEE': 12, 'B-NUM': 13, 'I-NUM': 14, 'B-ORG': 15, 'I-ORG': 16, 'B-PERCENT': 17, 'I-PERCENT': 18, 'B-TECH': 19, 'I-TECH': 20, 'B-TELEPHONE': 21, 'I-TELEPHONE': 22}\n",
      "{0: 'O', 1: 'B-ACRONYM', 2: 'I-ACRONYM', 3: 'B-DATE', 4: 'I-DATE', 5: 'B-LINK', 6: 'I-LINK', 7: 'B-MAIL', 8: 'I-MAIL', 9: 'B-NAME', 10: 'I-NAME', 11: 'B-NAME_EMPLOYEE', 12: 'I-NAME_EMPLOYEE', 13: 'B-NUM', 14: 'I-NUM', 15: 'B-ORG', 16: 'I-ORG', 17: 'B-PERCENT', 18: 'I-PERCENT', 19: 'B-TECH', 20: 'I-TECH', 21: 'B-TELEPHONE', 22: 'I-TELEPHONE'}\n"
     ]
    }
   ],
   "source": [
    "with open(\"../data_processed/entity_names.txt\", encoding=\"utf-8\") as f:\n",
    "    entity_names = f.readlines()[0].split(\" \")\n",
    "\n",
    "labels2id = {\"O\" : 0}\n",
    "\n",
    "bio_labels = []\n",
    "for entity_name in sorted(entity_names):\n",
    "    bio_labels.append(\"B-\" + entity_name)\n",
    "    bio_labels.append(\"I-\" + entity_name)\n",
    "\n",
    "for i, label in enumerate(bio_labels):\n",
    "    labels2id[label] = i + 1\n",
    "\n",
    "id2labels = {v : k for k, v in labels2id.items()}\n",
    "\n",
    "with open(\"../data_processed/labels2id.json\", \"w\", encoding=\"utf8\") as f:\n",
    "    json.dump(labels2id, f, ensure_ascii=False)\n",
    "\n",
    "with open(\"../data_processed/id2labels.json\", \"w\", encoding=\"utf8\") as f:\n",
    "    json.dump(id2labels, f, ensure_ascii=False)\n",
    "\n",
    "print(labels2id)\n",
    "print(id2labels)"
   ]
  },
  {
   "cell_type": "markdown",
   "metadata": {},
   "source": [
    "# Переведем фрагмент-метка формат в BIO формат: разделим каждый пример по пробелам и поставим в соответсвие BIO-метку"
   ]
  },
  {
   "cell_type": "code",
   "execution_count": 18,
   "metadata": {},
   "outputs": [],
   "source": [
    "train_data_processed, train_labels = texts_labels_to_bio(x_train, y_train)\n",
    "train_labels_ids = labels_to_id(train_labels, labels2id)\n",
    "\n",
    "test_data_processed, test_labels = texts_labels_to_bio(x_test, y_test)\n",
    "test_labels_ids = labels_to_id(test_labels, labels2id)\n",
    "\n",
    "aug_data_processed, aug_labels = texts_labels_to_bio(aug_data, aug_labels)\n",
    "aug_labels_ids = labels_to_id(aug_labels, labels2id)"
   ]
  },
  {
   "cell_type": "code",
   "execution_count": 19,
   "metadata": {},
   "outputs": [
    {
     "name": "stdout",
     "output_type": "stream",
     "text": [
      "66 ['Если', 'в', 'магазин', 'без', 'сервиса', '+7', '010', '618', '1753', 'приходит', 'сырье,', 'то', 'необходимо', 'сообщить', 'QHJ', 'для', 'дальнейшего', 'обращения', 'к', 'PNQ', 'территории.', '\\n\\n**По', 'территории', 'Центр**', 'алгоритм', 'обращения', 'следующий:\\n\\n\\n\\n|', '|', '|', '|\\n|', '---', '|', '---', '|', '---', '|\\n|', 'Причина', 'обращения', '|', 'Канал', 'коммуникации:', '|', 'Описание', 'действий,', 'сроки:', '|\\n|', '**Заявки', 'по', 'Хлебопечи', 'и', 'опциям', 'Кофе/Сок**:', '*', 'закупка', 'и', 'установка', 'новой', 'Печи\\n*', 'перенос/демонтаж/поломка', 'Печи\\n*', 'установка/демонтаж/поломка', 'Кофемашины,', 'Сокомашины\\n*', 'снижение', 'TFS', 'Пекарни']\n",
      "66 ['O', 'O', 'O', 'O', 'O', 'B-TELEPHONE', 'I-TELEPHONE', 'I-TELEPHONE', 'I-TELEPHONE', 'O', 'O', 'O', 'O', 'O', 'B-ACRONYM', 'O', 'O', 'O', 'O', 'B-ACRONYM', 'O', 'O', 'O', 'O', 'O', 'O', 'O', 'O', 'O', 'O', 'O', 'O', 'O', 'O', 'O', 'O', 'O', 'O', 'O', 'O', 'O', 'O', 'O', 'O', 'O', 'O', 'O', 'O', 'O', 'O', 'O', 'O', 'O', 'O', 'O', 'O', 'O', 'O', 'O', 'O', 'O', 'O', 'O', 'O', 'B-ACRONYM', 'O']\n",
      "[0, 0, 0, 0, 0, 21, 22, 22, 22, 0, 0, 0, 0, 0, 1, 0, 0, 0, 0, 1, 0, 0, 0, 0, 0, 0, 0, 0, 0, 0, 0, 0, 0, 0, 0, 0, 0, 0, 0, 0, 0, 0, 0, 0, 0, 0, 0, 0, 0, 0, 0, 0, 0, 0, 0, 0, 0, 0, 0, 0, 0, 0, 0, 0, 1, 0]\n"
     ]
    }
   ],
   "source": [
    "print(len(train_data_processed[sample_id]), train_data_processed[sample_id])\n",
    "print(len(train_labels[sample_id]), train_labels[sample_id])\n",
    "print(train_labels_ids[sample_id])"
   ]
  },
  {
   "cell_type": "code",
   "execution_count": 20,
   "metadata": {},
   "outputs": [
    {
     "name": "stdout",
     "output_type": "stream",
     "text": [
      "22 ['Если', 'в', 'магазин', 'без', '8', '(306)', '320-56-42', 'приходит', 'сырье,', 'то', 'сообщить', '66%', 'для', 'дальнейшего', 'к', 'HBJA', '8', '510', '012', '8505', 'ШВХЫВ', 'Пекарни']\n",
      "22 ['O', 'O', 'O', 'O', 'B-TELEPHONE', 'I-TELEPHONE', 'I-TELEPHONE', 'O', 'O', 'O', 'O', 'B-PERCENT', 'O', 'O', 'O', 'B-ACRONYM', 'B-TELEPHONE', 'I-TELEPHONE', 'I-TELEPHONE', 'I-TELEPHONE', 'B-ACRONYM', 'O']\n",
      "[0, 0, 0, 0, 21, 22, 22, 0, 0, 0, 0, 17, 0, 0, 0, 1, 21, 22, 22, 22, 1, 0]\n"
     ]
    }
   ],
   "source": [
    "print(len(aug_data_processed[sample_id]), aug_data_processed[sample_id])\n",
    "print(len(aug_labels[sample_id]), aug_labels[sample_id])\n",
    "print(aug_labels_ids[sample_id])"
   ]
  },
  {
   "cell_type": "markdown",
   "metadata": {},
   "source": [
    "# Подготовим данные для более удобного чтения через библиотеку datasets от hugginface:"
   ]
  },
  {
   "cell_type": "code",
   "execution_count": 21,
   "metadata": {},
   "outputs": [
    {
     "name": "stderr",
     "output_type": "stream",
     "text": [
      "d:\\Projects\\Codenrock\\maskirovanie-5629\\.venv\\lib\\site-packages\\tqdm\\auto.py:21: TqdmWarning: IProgress not found. Please update jupyter and ipywidgets. See https://ipywidgets.readthedocs.io/en/stable/user_install.html\n",
      "  from .autonotebook import tqdm as notebook_tqdm\n"
     ]
    }
   ],
   "source": [
    "from datasets import Dataset"
   ]
  },
  {
   "cell_type": "code",
   "execution_count": 22,
   "metadata": {},
   "outputs": [],
   "source": [
    "def create_list_dataset(data, labels_ids, labels_names):\n",
    "    list_dataset = []\n",
    "    for i in range(len(data)):\n",
    "        tokens = data[i]\n",
    "        tags = labels_ids[i]\n",
    "        names = labels_names[i]\n",
    "        list_dataset.append({\"id\" : i, \"tokens\" : tokens, \"ner_tags\" : tags, \"ner_names\" : names }) \n",
    "\n",
    "    return list_dataset"
   ]
  },
  {
   "cell_type": "code",
   "execution_count": 23,
   "metadata": {},
   "outputs": [],
   "source": [
    "train_list_dataset = create_list_dataset(train_data_processed, train_labels_ids, train_labels)\n",
    "test_list_dataset = create_list_dataset(test_data_processed, test_labels_ids, test_labels)\n",
    "\n",
    "aug_list_dataset = create_list_dataset(aug_data_processed, aug_labels_ids, aug_labels)"
   ]
  },
  {
   "cell_type": "code",
   "execution_count": 24,
   "metadata": {},
   "outputs": [],
   "source": [
    "train_dataset = Dataset.from_list(train_list_dataset)\n",
    "test_dataset = Dataset.from_list(test_list_dataset)\n",
    "\n",
    "aug_dataset = Dataset.from_list(aug_list_dataset)"
   ]
  },
  {
   "cell_type": "code",
   "execution_count": null,
   "metadata": {},
   "outputs": [],
   "source": [
    "aug_dataset.save_to_disk(\"../data_processed/aug_dataset\")\n",
    "train_dataset.save_to_disk(\"../data_processed/train_dataset\")\n",
    "test_dataset.save_to_disk(\"../data_processed/test_dataset\")"
   ]
  }
 ],
 "metadata": {
  "kernelspec": {
   "display_name": ".venv",
   "language": "python",
   "name": "python3"
  },
  "language_info": {
   "codemirror_mode": {
    "name": "ipython",
    "version": 3
   },
   "file_extension": ".py",
   "mimetype": "text/x-python",
   "name": "python",
   "nbconvert_exporter": "python",
   "pygments_lexer": "ipython3",
   "version": "3.10.9"
  }
 },
 "nbformat": 4,
 "nbformat_minor": 2
}
