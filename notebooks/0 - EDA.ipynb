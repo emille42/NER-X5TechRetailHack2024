{
 "cells": [
  {
   "cell_type": "code",
   "execution_count": 1,
   "metadata": {},
   "outputs": [],
   "source": [
    "import pandas as pd\n",
    "import matplotlib.pyplot as plt\n",
    "import numpy as np\n",
    "import random\n",
    "import json\n",
    "from ipymarkup import show_span_box_markup"
   ]
  },
  {
   "cell_type": "code",
   "execution_count": 2,
   "metadata": {},
   "outputs": [],
   "source": [
    "SEED = 2024*5\n",
    "random.seed(SEED)\n",
    "np.random.seed(SEED)"
   ]
  },
  {
   "cell_type": "markdown",
   "metadata": {},
   "source": [
    "# Загрузка данных"
   ]
  },
  {
   "cell_type": "code",
   "execution_count": 3,
   "metadata": {},
   "outputs": [
    {
     "name": "stdout",
     "output_type": "stream",
     "text": [
      "Dataset size: 330 \n",
      "\n"
     ]
    },
    {
     "data": {
      "text/plain": [
       "[{'text': '**Когда квитанция поступит,** вАрхиве поступлений в «Статусе маркировки» отобразится статус по накладной «Продажа разрешена» или «Принято с расхождениями».  \\n  \\nПринятые марки добавятся на остатки магазина, **товары станут доступны для продажи на кассе**.\\n* **Принято с расхождениями** – марки приняты НЕ ПО ВСЕМ товарам.  \\n  \\nНеобходимо провалиться в документ поступления и проверить статус маркировки по каждой +7 010 618 1753.',\n",
       "  'entities': [{'entity_group': 'TELEPHONE',\n",
       "    'word': '+7 010 618 1753',\n",
       "    'start': 413,\n",
       "    'end': 428}]},\n",
       " {'text': '**Контакты ответственных менеджеров по MVU и KIT каждой территории:**\\n\\n\\n\\n|  |  |  |\\n| --- | --- | --- |\\n| **Территория** | **ФИО менеджера** | **Эл. почта** |\\n| Волга | Елисеева Олимпиада Максимовна | ribakovapolina@zao.info |\\n| Восток | Колесников Селиверст Харламович | erofesafonov@boes.info |\\n| Северо-Запад | Григорьев Зиновий Александрович | fdoronin@tsvetkova.com |\\n| Центр | Агафон Егорович Селиверстов | klavdi_2003@nesterova.ru |\\n| Юг | Егор Гертрудович Голубев | kulikovapollon@novosibirskenergosbit.ru |',\n",
       "  'entities': [{'entity_group': 'ACRONYM',\n",
       "    'word': 'MVU',\n",
       "    'start': 38,\n",
       "    'end': 43},\n",
       "   {'entity_group': 'ACRONYM', 'word': 'KIT', 'start': 44, 'end': 49},\n",
       "   {'entity_group': 'NAME',\n",
       "    'word': 'Елисеева Олимпиада Максимовна',\n",
       "    'start': 169,\n",
       "    'end': 198},\n",
       "   {'entity_group': 'MAIL',\n",
       "    'word': 'ribakovapolina@zao.info',\n",
       "    'start': 201,\n",
       "    'end': 224},\n",
       "   {'entity_group': 'NAME',\n",
       "    'word': 'Колесников Селиверст Харламович',\n",
       "    'start': 238,\n",
       "    'end': 269},\n",
       "   {'entity_group': 'MAIL',\n",
       "    'word': 'erofesafonov@boes.info',\n",
       "    'start': 272,\n",
       "    'end': 294},\n",
       "   {'entity_group': 'NAME',\n",
       "    'word': 'Григорьев Зиновий Александрович',\n",
       "    'start': 314,\n",
       "    'end': 345},\n",
       "   {'entity_group': 'MAIL',\n",
       "    'word': 'fdoronin@tsvetkova.com',\n",
       "    'start': 348,\n",
       "    'end': 370},\n",
       "   {'entity_group': 'NAME',\n",
       "    'word': 'Агафон Егорович Селиверстов',\n",
       "    'start': 383,\n",
       "    'end': 410},\n",
       "   {'entity_group': 'MAIL',\n",
       "    'word': 'klavdi_2003@nesterova.ru',\n",
       "    'start': 413,\n",
       "    'end': 437},\n",
       "   {'entity_group': 'NAME',\n",
       "    'word': 'Егор Гертрудович Голубев',\n",
       "    'start': 447,\n",
       "    'end': 471},\n",
       "   {'entity_group': 'MAIL',\n",
       "    'word': 'kulikovapollon@novosibirskenergosbit.ru',\n",
       "    'start': 474,\n",
       "    'end': 513}]}]"
      ]
     },
     "execution_count": 3,
     "metadata": {},
     "output_type": "execute_result"
    }
   ],
   "source": [
    "with open(\"../data/share/train.json\", encoding=\"utf-8\") as f:\n",
    "    data = json.load(f)\n",
    "print(\"Dataset size:\", len(data), \"\\n\")\n",
    "data[:2]"
   ]
  },
  {
   "cell_type": "code",
   "execution_count": 4,
   "metadata": {},
   "outputs": [
    {
     "data": {
      "text/plain": [
       "{'text': '**Условия:*** Товар по регулярной цене – минус98.16% от цены ценника;\\n* Товар по акционной цене – акционная цена;\\n* Товар со скидкой по+7 010 6+7 010 618 1753 (ВК) – акционная цена (если OJE отсканирована в чек) или минус98.16% от регулярной цены (если OJE не отсканирована);\\n* RMV работает без ограничения по времени суток и дню недели;\\n* Для получения скидки, необходимо показать кассиру RMV на своем мобильном телефоне (классические кассы РКУ), или самостоятельно отсканировать RMV в чек (для касс самообслуживания КСО).',\n",
       " 'entities': [{'entity_group': 'PERCENT',\n",
       "   'word': '98.16%',\n",
       "   'start': 46,\n",
       "   'end': 52},\n",
       "  {'entity_group': 'TELEPHONE',\n",
       "   'word': '+7 010 618 1753',\n",
       "   'start': 135,\n",
       "   'end': 150},\n",
       "  {'entity_group': 'TELEPHONE',\n",
       "   'word': '+7 010 618 1753',\n",
       "   'start': 143,\n",
       "   'end': 158},\n",
       "  {'entity_group': 'ACRONYM', 'word': 'OJE', 'start': 186, 'end': 191},\n",
       "  {'entity_group': 'PERCENT', 'word': '98.16%', 'start': 221, 'end': 227},\n",
       "  {'entity_group': 'ACRONYM', 'word': 'OJE', 'start': 252, 'end': 257},\n",
       "  {'entity_group': 'ACRONYM', 'word': 'RMV', 'start': 277, 'end': 282},\n",
       "  {'entity_group': 'ACRONYM', 'word': 'RMV', 'start': 389, 'end': 394},\n",
       "  {'entity_group': 'ACRONYM', 'word': 'RMV', 'start': 480, 'end': 485}]}"
      ]
     },
     "execution_count": 4,
     "metadata": {},
     "output_type": "execute_result"
    }
   ],
   "source": [
    "data[72]\n",
    "# Ошибка в разметке ?: конец одного номера телефона перекрывает начало другого"
   ]
  },
  {
   "cell_type": "code",
   "execution_count": 5,
   "metadata": {},
   "outputs": [
    {
     "data": {
      "text/plain": [
       "{'text': '+7 010 618 1753 закрывается или переезжает?  Не получается зайти в ZPD и OZP? Не получается принять посылку? Что делать и кому звонить ты узнаешь из памяток в этом разделе.   \\n  \\n**НЕТ ПЛОМБ** **– создай инцидент в ZPD с типом «Нет пломбы для возврата»!**\\n\\nПо неотложным вопросам работает XUY Ферронордик машины (Ferronordic) **+7(800)505-41-81**\\n\\nОбучающие видеоролики, можно запросить у менеджера по операциям Ферронордик машины (Ferronordic) через QBH. \\n\\nКонтакты менеджеров доступны по ссылке.',\n",
       " 'entities': [{'entity_group': 'TELEPHONE',\n",
       "   'word': '+7 010 618 1753',\n",
       "   'start': 0,\n",
       "   'end': 15},\n",
       "  {'entity_group': 'ACRONYM', 'word': 'ZPD', 'start': 66, 'end': 71},\n",
       "  {'entity_group': 'TECH', 'word': 'OZP', 'start': 73, 'end': 76},\n",
       "  {'entity_group': 'ACRONYM', 'word': 'ZPD', 'start': 214, 'end': 219},\n",
       "  {'entity_group': 'ACRONYM', 'word': 'XUY', 'start': 288, 'end': 293},\n",
       "  {'entity_group': 'ORG',\n",
       "   'word': 'Ферронордик машины (Ferronordic)',\n",
       "   'start': 293,\n",
       "   'end': 325},\n",
       "  {'entity_group': 'ORG',\n",
       "   'word': 'Ферронордик машины (Ferronordic)',\n",
       "   'start': 412,\n",
       "   'end': 444},\n",
       "  {'entity_group': 'TECH', 'word': 'QBH', 'start': 451, 'end': 454}]}"
      ]
     },
     "execution_count": 5,
     "metadata": {},
     "output_type": "execute_result"
    }
   ],
   "source": [
    "data[226]\n",
    "# Есть неразмеченный номер телефона\n",
    "# У текста временами отсутствует какой-либо смысл. Такое впечатление, что сущности вставлялись рандомным образом в текст\n",
    "# Возможно оригинальные именованные сущности были обезличены"
   ]
  },
  {
   "cell_type": "code",
   "execution_count": 6,
   "metadata": {},
   "outputs": [
    {
     "data": {
      "text/plain": [
       "('+7 010 618 1753', ' ZPD ', 'OZP', 'Ферронордик машины (Ferronordic)', 'QBH')"
      ]
     },
     "execution_count": 6,
     "metadata": {},
     "output_type": "execute_result"
    }
   ],
   "source": [
    "data[226][\"text\"][0:15], data[226][\"text\"][66:71], data[226][\"text\"][73:76], data[226][\"text\"][293:325], data[226][\"text\"][451:454]\n",
    "# Некоторые акронимы длинною в 3 символа помечены как 5 символов (пробелы по бокам)"
   ]
  },
  {
   "cell_type": "markdown",
   "metadata": {},
   "source": [
    "Можно заметить, что есть ошибки в разметке, а также не всегда именнованная сущность находится в правильном контексте. \\\n",
    "Также: номера телефонов почти все одинаковые \\\n",
    "Номера телефонов состоят из нескольких токенов \\\n",
    "Имена состоят из нескольких токенов, впрочем как и некоторые другие сущности. Лучше использовать BIO разметку"
   ]
  },
  {
   "cell_type": "markdown",
   "metadata": {},
   "source": [
    "# Визуализация именованных сущностей и распределения меток классов"
   ]
  },
  {
   "cell_type": "code",
   "execution_count": 7,
   "metadata": {},
   "outputs": [
    {
     "name": "stdout",
     "output_type": "stream",
     "text": [
      "-------- TEXT: 1 --------\n"
     ]
    },
    {
     "data": {
      "text/html": [
       "<div class=\"tex2jax_ignore\" style=\"white-space: pre-wrap\">**Когда квитанция поступит,** вАрхиве поступлений в «Статусе маркировки» отобразится статус по накладной «Продажа разрешена» или «Принято с расхождениями».  \n",
       "  \n",
       "Принятые марки добавятся на остатки магазина, **товары станут доступны для продажи на кассе**.\n",
       "* **Принято с расхождениями** – марки приняты НЕ ПО ВСЕМ товарам.  \n",
       "  \n",
       "Необходимо провалиться в документ поступления и проверить статус маркировки по каждой <span style=\"padding: 2px; border-radius: 4px; border: 1px solid #bbdefb; background: #e3f2fd\">+7 010 618 1753<span style=\"vertical-align: middle; margin-left: 2px; font-size: 0.7em; color: #64b5f6;\">TELEPHONE</span></span>.</div>"
      ],
      "text/plain": [
       "<IPython.core.display.HTML object>"
      ]
     },
     "metadata": {},
     "output_type": "display_data"
    },
    {
     "name": "stdout",
     "output_type": "stream",
     "text": [
      "-------- TEXT: 2 --------\n"
     ]
    },
    {
     "data": {
      "text/html": [
       "<div class=\"tex2jax_ignore\" style=\"white-space: pre-wrap\">**Контакты ответственных менеджеров по<span style=\"padding: 2px; border-radius: 4px; border: 1px solid #c8e6c9; background: #e8f5e9\"> MVU <span style=\"vertical-align: middle; margin-left: 2px; font-size: 0.7em; color: #66bb6a;\">ACRONYM</span></span>и<span style=\"padding: 2px; border-radius: 4px; border: 1px solid #c8e6c9; background: #e8f5e9\"> KIT <span style=\"vertical-align: middle; margin-left: 2px; font-size: 0.7em; color: #66bb6a;\">ACRONYM</span></span>каждой территории:**\n",
       "\n",
       "\n",
       "\n",
       "|  |  |  |\n",
       "| --- | --- | --- |\n",
       "| **Территория** | **ФИО менеджера** | **Эл. почта** |\n",
       "| Волга | <span style=\"padding: 2px; border-radius: 4px; border: 1px solid #ffcdd2; background: #ffebee\">Елисеева Олимпиада Максимовна<span style=\"vertical-align: middle; margin-left: 2px; font-size: 0.7em; color: #e57373;\">NAME</span></span> | <span style=\"padding: 2px; border-radius: 4px; border: 1px solid #ffe0b2; background: #fff3e0\">ribakovapolina@zao.info<span style=\"vertical-align: middle; margin-left: 2px; font-size: 0.7em; color: #ffb74d;\">MAIL</span></span> |\n",
       "| Восток | <span style=\"padding: 2px; border-radius: 4px; border: 1px solid #ffcdd2; background: #ffebee\">Колесников Селиверст Харламович<span style=\"vertical-align: middle; margin-left: 2px; font-size: 0.7em; color: #e57373;\">NAME</span></span> | <span style=\"padding: 2px; border-radius: 4px; border: 1px solid #ffe0b2; background: #fff3e0\">erofesafonov@boes.info<span style=\"vertical-align: middle; margin-left: 2px; font-size: 0.7em; color: #ffb74d;\">MAIL</span></span> |\n",
       "| Северо-Запад | <span style=\"padding: 2px; border-radius: 4px; border: 1px solid #ffcdd2; background: #ffebee\">Григорьев Зиновий Александрович<span style=\"vertical-align: middle; margin-left: 2px; font-size: 0.7em; color: #e57373;\">NAME</span></span> | <span style=\"padding: 2px; border-radius: 4px; border: 1px solid #ffe0b2; background: #fff3e0\">fdoronin@tsvetkova.com<span style=\"vertical-align: middle; margin-left: 2px; font-size: 0.7em; color: #ffb74d;\">MAIL</span></span> |\n",
       "| Центр | <span style=\"padding: 2px; border-radius: 4px; border: 1px solid #ffcdd2; background: #ffebee\">Агафон Егорович Селиверстов<span style=\"vertical-align: middle; margin-left: 2px; font-size: 0.7em; color: #e57373;\">NAME</span></span> | <span style=\"padding: 2px; border-radius: 4px; border: 1px solid #ffe0b2; background: #fff3e0\">klavdi_2003@nesterova.ru<span style=\"vertical-align: middle; margin-left: 2px; font-size: 0.7em; color: #ffb74d;\">MAIL</span></span> |\n",
       "| Юг | <span style=\"padding: 2px; border-radius: 4px; border: 1px solid #ffcdd2; background: #ffebee\">Егор Гертрудович Голубев<span style=\"vertical-align: middle; margin-left: 2px; font-size: 0.7em; color: #e57373;\">NAME</span></span> | <span style=\"padding: 2px; border-radius: 4px; border: 1px solid #ffe0b2; background: #fff3e0\">kulikovapollon@novosibirskenergosbit.ru<span style=\"vertical-align: middle; margin-left: 2px; font-size: 0.7em; color: #ffb74d;\">MAIL</span></span> |</div>"
      ],
      "text/plain": [
       "<IPython.core.display.HTML object>"
      ]
     },
     "metadata": {},
     "output_type": "display_data"
    },
    {
     "name": "stdout",
     "output_type": "stream",
     "text": [
      "-------- TEXT: 3 --------\n"
     ]
    },
    {
     "data": {
      "text/html": [
       "<div class=\"tex2jax_ignore\" style=\"white-space: pre-wrap\">**<span style=\"padding: 2px; border-radius: 4px; border: 1px solid #bbdefb; background: #e3f2fd\">+7 010 618 1753<span style=\"vertical-align: middle; margin-left: 2px; font-size: 0.7em; color: #64b5f6;\">TELEPHONE</span></span>** для сотрудников — это внутрикорпоративная \n",
       "программа для управления организацией, которая обеспечивает возможность \n",
       "коммуникации, обмена документами, публикации достижений сотрудников и \n",
       "новостей компании. \n",
       "\n",
       "<span style=\"padding: 2px; border-radius: 4px; border: 1px solid #bbdefb; background: #e3f2fd\">+7 010 618 1753<span style=\"vertical-align: middle; margin-left: 2px; font-size: 0.7em; color: #64b5f6;\">TELEPHONE</span></span> содержат \n",
       "информацию об услугах и продуктах компании, ознакомительные\n",
       " и обучающие материалы для сотрудников, организационную структуру, а так же обеспечивают исполнение многих бизнес-процессов.</div>"
      ],
      "text/plain": [
       "<IPython.core.display.HTML object>"
      ]
     },
     "metadata": {},
     "output_type": "display_data"
    },
    {
     "name": "stdout",
     "output_type": "stream",
     "text": [
      "-------- TEXT: 4 --------\n"
     ]
    },
    {
     "data": {
      "text/html": [
       "<div class=\"tex2jax_ignore\" style=\"white-space: pre-wrap\">**Критикуйте конструктивно, а не публично.**\n",
       "\n",
       "Если у вас есть вопросы или предложения по улучшению работы компании, вы можете поговорить об этом со своим руководителем, написать на электронный ящик горячей линии <span style=\"padding: 2px; border-radius: 4px; border: 1px solid #ffe0b2; background: #fff3e0\">krasilnikovamos@gruppa.edu<span style=\"vertical-align: middle; margin-left: 2px; font-size: 0.7em; color: #ffb74d;\">MAIL</span></span> или оставить комментарий на [корпоративном портале.](<span style=\"padding: 2px; border-radius: 4px; border: 1px solid #d1c4e9; background: #ede7f6\">http://rao.org/<span style=\"vertical-align: middle; margin-left: 2px; font-size: 0.7em; color: #9575cd;\">LINK</span></span>)\n",
       "\n",
       "**Воздержитесь от критики конкурентов.**</div>"
      ],
      "text/plain": [
       "<IPython.core.display.HTML object>"
      ]
     },
     "metadata": {},
     "output_type": "display_data"
    },
    {
     "name": "stdout",
     "output_type": "stream",
     "text": [
      "-------- TEXT: 5 --------\n"
     ]
    },
    {
     "data": {
      "text/html": [
       "<div class=\"tex2jax_ignore\" style=\"white-space: pre-wrap\">**Кто войдет в состав «<span style=\"padding: 2px; border-radius: 4px; border: 1px solid #bbdefb; background: #e3f2fd\">+7 010 618 1753<span style=\"vertical-align: middle; margin-left: 2px; font-size: 0.7em; color: #64b5f6;\">TELEPHONE</span></span>».**\n",
       "\n",
       "Попасть в «<span style=\"padding: 2px; border-radius: 4px; border: 1px solid #bbdefb; background: #e3f2fd\">+7 010 618 1753<span style=\"vertical-align: middle; margin-left: 2px; font-size: 0.7em; color: #64b5f6;\">TELEPHONE</span></span>» сможет гость, соответствующий следующим критериям:\n",
       "\n",
       "* является владельцем «<span style=\"padding: 2px; border-radius: 4px; border: 1px solid #bbdefb; background: #e3f2fd\">+7 010 618 1753<span style=\"vertical-align: middle; margin-left: 2px; font-size: 0.7em; color: #64b5f6;\">TELEPHONE</span></span>»;\n",
       "* является пользователем мобильного приложения «<span style=\"padding: 2px; border-radius: 4px; border: 1px solid #d7ccc8; background: #efebe9\">САМ-МБ<span style=\"vertical-align: middle; margin-left: 2px; font-size: 0.7em; color: #a1887f;\">ORG</span></span>»;\n",
       "* заходит в мобильное приложение «<span style=\"padding: 2px; border-radius: 4px; border: 1px solid #d7ccc8; background: #efebe9\">САМ-МБ<span style=\"vertical-align: middle; margin-left: 2px; font-size: 0.7em; color: #a1887f;\">ORG</span></span>» минимум 1 раз в месяц;\n",
       "* совершал минимум 5 покупок в магазинах «<span style=\"padding: 2px; border-radius: 4px; border: 1px solid #d7ccc8; background: #efebe9\">САМ-МБ<span style=\"vertical-align: middle; margin-left: 2px; font-size: 0.7em; color: #a1887f;\">ORG</span></span>» за прошедший месяц.\n",
       "\n",
       "Вступить в клуб без приглашения невозможно.\n",
       "\n",
       "Сотрудники магазина не могут быть участниками клуба.</div>"
      ],
      "text/plain": [
       "<IPython.core.display.HTML object>"
      ]
     },
     "metadata": {},
     "output_type": "display_data"
    },
    {
     "name": "stdout",
     "output_type": "stream",
     "text": [
      "-------- TEXT: 6 --------\n"
     ]
    },
    {
     "data": {
      "text/html": [
       "<div class=\"tex2jax_ignore\" style=\"white-space: pre-wrap\">**М. Печать ценников - для товаров, расположенных в нескольких местах выкладки**\n",
       "\n",
       "**При печати ценников размера Полочный /<span style=\"padding: 2px; border-radius: 4px; border: 1px solid #c8e6c9; background: #e8f5e9\"> VLF <span style=\"vertical-align: middle; margin-left: 2px; font-size: 0.7em; color: #66bb6a;\">ACRONYM</span></span>через** **<span style=\"padding: 2px; border-radius: 4px; border: 1px solid #bbdefb; background: #e3f2fd\">GogolGadget<span style=\"vertical-align: middle; margin-left: 2px; font-size: 0.7em; color: #64b5f6;\">TECH</span></span>****<span style=\"padding: 2px; border-radius: 4px; border: 1px solid #bbdefb; background: #e3f2fd\">SKC<span style=\"vertical-align: middle; margin-left: 2px; font-size: 0.7em; color: #64b5f6;\">TECH</span></span>**:\n",
       "\n",
       "* На печать отправляется столько ценников, сколько местоположений у товара согласно планограмме. Ручной ввод количества копий недоступен.\n",
       "* На каждом ценнике – указана уникальная информация о месте выкладки.\n",
       "\n",
       "**При печати через <span style=\"padding: 2px; border-radius: 4px; border: 1px solid #bbdefb; background: #e3f2fd\">OZP<span style=\"vertical-align: middle; margin-left: 2px; font-size: 0.7em; color: #64b5f6;\">TECH</span></span>** (из разделов «Проверка ценников» и «Информация о товаре»):</div>"
      ],
      "text/plain": [
       "<IPython.core.display.HTML object>"
      ]
     },
     "metadata": {},
     "output_type": "display_data"
    },
    {
     "name": "stdout",
     "output_type": "stream",
     "text": [
      "-------- TEXT: 7 --------\n"
     ]
    },
    {
     "data": {
      "text/html": [
       "<div class=\"tex2jax_ignore\" style=\"white-space: pre-wrap\">**Маркировка. Марочная ЛИ**\n",
       "* Изменения на<span style=\"padding: 2px; border-radius: 4px; border: 1px solid #c8e6c9; background: #e8f5e9\"> WNQ <span style=\"vertical-align: middle; margin-left: 2px; font-size: 0.7em; color: #66bb6a;\">ACRONYM</span></span><span style=\"padding: 2px; border-radius: 4px; border: 1px solid #bbdefb; background: #e3f2fd\">+7 010 618 1753<span style=\"vertical-align: middle; margin-left: 2px; font-size: 0.7em; color: #64b5f6;\">TELEPHONE</span></span> – Обзор документов. Добавлен столбец «<span style=\"padding: 2px; border-radius: 4px; border: 1px solid #bbdefb; background: #e3f2fd\">ChekhovChain<span style=\"vertical-align: middle; margin-left: 2px; font-size: 0.7em; color: #64b5f6;\">TECH</span></span>»: если проставлено значение «М», то инвентаризация марочная, если пусто - то <span style=\"padding: 2px; border-radius: 4px; border: 1px solid #bbdefb; background: #e3f2fd\">+7 010 618 1753<span style=\"vertical-align: middle; margin-left: 2px; font-size: 0.7em; color: #64b5f6;\">TELEPHONE</span></span>.\n",
       "* Изменения на<span style=\"padding: 2px; border-radius: 4px; border: 1px solid #c8e6c9; background: #e8f5e9\"> WNQ <span style=\"vertical-align: middle; margin-left: 2px; font-size: 0.7em; color: #66bb6a;\">ACRONYM</span></span><span style=\"padding: 2px; border-radius: 4px; border: 1px solid #bbdefb; background: #e3f2fd\">+7 010 618 1753<span style=\"vertical-align: middle; margin-left: 2px; font-size: 0.7em; color: #64b5f6;\">TELEPHONE</span></span> - Создание/подсчет. Теперь на вкладке «<span style=\"padding: 2px; border-radius: 4px; border: 1px solid #bbdefb; background: #e3f2fd\">+7 010 618 1753<span style=\"vertical-align: middle; margin-left: 2px; font-size: 0.7em; color: #64b5f6;\">TELEPHONE</span></span>» по<span style=\"padding: 2px; border-radius: 4px; border: 1px solid #c8e6c9; background: #e8f5e9\"> YLJ <span style=\"vertical-align: middle; margin-left: 2px; font-size: 0.7em; color: #66bb6a;\">ACRONYM</span></span>можно:\n",
       "Просмотреть результаты просчёта марок, выгрузить список разниц, зафиксировать остатки, провести МИ.</div>"
      ],
      "text/plain": [
       "<IPython.core.display.HTML object>"
      ]
     },
     "metadata": {},
     "output_type": "display_data"
    },
    {
     "name": "stdout",
     "output_type": "stream",
     "text": [
      "-------- TEXT: 8 --------\n"
     ]
    },
    {
     "data": {
      "text/html": [
       "<div class=\"tex2jax_ignore\" style=\"white-space: pre-wrap\">**Навигатор по\n",
       "информационным системам**  \n",
       "\n",
       "\n",
       "  \n",
       "\n",
       "\n",
       " Навигатор по\n",
       "информационным системам включает краткое описание информационных систем, адрес и условия получения\n",
       "доступа, а также ссылки на инструкции.   \n",
       "\n",
       "\n",
       "Навигатор размещен во вложении и на учебном портале [<span style=\"padding: 2px; border-radius: 4px; border: 1px solid #d1c4e9; background: #ede7f6\">https://www.potapova.org/<span style=\"vertical-align: middle; margin-left: 2px; font-size: 0.7em; color: #9575cd;\">LINK</span></span>](<span style=\"padding: 2px; border-radius: 4px; border: 1px solid #d1c4e9; background: #ede7f6\">https://www.potapova.org/<span style=\"vertical-align: middle; margin-left: 2px; font-size: 0.7em; color: #9575cd;\">LINK</span></span>/) -&gt; [**Программа\n",
       "ввода в должность для ДК**](<span style=\"padding: 2px; border-radius: 4px; border: 1px solid #d1c4e9; background: #ede7f6\">http://ao.net/<span style=\"vertical-align: middle; margin-left: 2px; font-size: 0.7em; color: #9575cd;\">LINK</span></span>)</div>"
      ],
      "text/plain": [
       "<IPython.core.display.HTML object>"
      ]
     },
     "metadata": {},
     "output_type": "display_data"
    },
    {
     "name": "stdout",
     "output_type": "stream",
     "text": [
      "-------- TEXT: 9 --------\n"
     ]
    },
    {
     "data": {
      "text/html": [
       "<div class=\"tex2jax_ignore\" style=\"white-space: pre-wrap\">**Напоминаем!** «<span style=\"padding: 2px; border-radius: 4px; border: 1px solid #bbdefb; background: #e3f2fd\">DruzhbaDrive<span style=\"vertical-align: middle; margin-left: 2px; font-size: 0.7em; color: #64b5f6;\">TECH</span></span>» – функционал, позволяющий совершать прием посылок в несколько этапов в течение дня - по мере освобождения мест в шкафчике и постамате. <span style=\"padding: 2px; border-radius: 4px; border: 1px solid #bbdefb; background: #e3f2fd\">TLP<span style=\"vertical-align: middle; margin-left: 2px; font-size: 0.7em; color: #64b5f6;\">TECH</span></span> – исключить приёмку посылок, которые негде выложить / хранить. Подключение магазинов к функционалу «<span style=\"padding: 2px; border-radius: 4px; border: 1px solid #bbdefb; background: #e3f2fd\">DruzhbaDrive<span style=\"vertical-align: middle; margin-left: 2px; font-size: 0.7em; color: #64b5f6;\">TECH</span></span>» происходит на основании существующей отчетности на уровне ЦО, а также по запросу директора к менеджеру по операциям <span style=\"padding: 2px; border-radius: 4px; border: 1px solid #d7ccc8; background: #efebe9\">Авилон АГ<span style=\"vertical-align: middle; margin-left: 2px; font-size: 0.7em; color: #a1887f;\">ORG</span></span>.\n",
       "\n",
       "**3.**    **«Проблемные» посылки в магазине**</div>"
      ],
      "text/plain": [
       "<IPython.core.display.HTML object>"
      ]
     },
     "metadata": {},
     "output_type": "display_data"
    },
    {
     "name": "stdout",
     "output_type": "stream",
     "text": [
      "-------- TEXT: 10 --------\n"
     ]
    },
    {
     "data": {
      "text/html": [
       "<div class=\"tex2jax_ignore\" style=\"white-space: pre-wrap\">**Напоминаем!** Для отдельных видов молочной продукции реализована продажа по <span style=\"padding: 2px; border-radius: 4px; border: 1px solid #bbdefb; background: #e3f2fd\">PushkinProcessor<span style=\"vertical-align: middle; margin-left: 2px; font-size: 0.7em; color: #64b5f6;\">TECH</span></span>, начиная с указанной даты:\n",
       "\n",
       "* с <span style=\"padding: 2px; border-radius: 4px; border: 1px solid #c8e6c9; background: #e8f5e9\">26.09.2022<span style=\"vertical-align: middle; margin-left: 2px; font-size: 0.7em; color: #66bb6a;\">DATE</span></span> - сыр, мороженое;\n",
       "* с <span style=\"padding: 2px; border-radius: 4px; border: 1px solid #c8e6c9; background: #e8f5e9\">09.11.2022<span style=\"vertical-align: middle; margin-left: 2px; font-size: 0.7em; color: #66bb6a;\">DATE</span></span> - молочные продукты сроком <span style=\"padding: 2px; border-radius: 4px; border: 1px solid #c8e6c9; background: #e8f5e9\">25.03.2008<span style=\"vertical-align: middle; margin-left: 2px; font-size: 0.7em; color: #66bb6a;\">DATE</span></span>;\n",
       "* с <span style=\"padding: 2px; border-radius: 4px; border: 1px solid #c8e6c9; background: #e8f5e9\">07.06.2005<span style=\"vertical-align: middle; margin-left: 2px; font-size: 0.7em; color: #66bb6a;\">DATE</span></span> - молочные продукты сроком <span style=\"padding: 2px; border-radius: 4px; border: 1px solid #c8e6c9; background: #e8f5e9\">17.06.2009<span style=\"vertical-align: middle; margin-left: 2px; font-size: 0.7em; color: #66bb6a;\">DATE</span></span> включительно;\n",
       "\n",
       "При сканировании<span style=\"padding: 2px; border-radius: 4px; border: 1px solid #c8e6c9; background: #e8f5e9\"> RMV <span style=\"vertical-align: middle; margin-left: 2px; font-size: 0.7em; color: #66bb6a;\">ACRONYM</span></span>таких товаров, будет выводиться сообщение: «*Сканируйте <span style=\"padding: 2px; border-radius: 4px; border: 1px solid #bbdefb; background: #e3f2fd\">TundraTrack<span style=\"vertical-align: middle; margin-left: 2px; font-size: 0.7em; color: #64b5f6;\">TECH</span></span> или нажмите [Отмена], если его нет»*\n",
       "\n",
       "**Обратите внимание!**</div>"
      ],
      "text/plain": [
       "<IPython.core.display.HTML object>"
      ]
     },
     "metadata": {},
     "output_type": "display_data"
    }
   ],
   "source": [
    "texts = []\n",
    "spans = []\n",
    "for sample in data:\n",
    "    texts.append(sample[\"text\"])\n",
    "    current_spans = []\n",
    "    for entity in sample[\"entities\"]:\n",
    "        current_spans.append((entity[\"start\"], entity[\"end\"], entity[\"entity_group\"]))\n",
    "    spans.append(current_spans)\n",
    "show_n = 10\n",
    "for i, text, span in zip(range(show_n), texts[:show_n], spans[:show_n]):\n",
    "    print(f\"-------- TEXT: {i + 1} --------\")\n",
    "    show_span_box_markup(text, span)"
   ]
  },
  {
   "cell_type": "code",
   "execution_count": 8,
   "metadata": {},
   "outputs": [
    {
     "data": {
      "image/png": "[encoded data removed]",
      "text/plain": [
       "<Figure size 1000x1500 with 3 Axes>"
      ]
     },
     "metadata": {},
     "output_type": "display_data"
    }
   ],
   "source": [
    "entities = {}\n",
    "text_lens = []\n",
    "entities_per_text = []\n",
    "for sample in data:\n",
    "    text_lens.append(len(sample[\"text\"]))\n",
    "    entities_per_text.append(len(sample[\"entities\"]))\n",
    "    for entity in sample[\"entities\"]:\n",
    "        if entity['entity_group'] not in entities.keys():\n",
    "            entities[entity['entity_group']] = 0\n",
    "        entities[entity['entity_group']] += 1\n",
    "entities = {k: v for k, v in sorted(entities.items(), key=lambda item: item[1])}\n",
    "\n",
    "fig, ax = plt.subplots(3, figsize=(10, 15))\n",
    "bars = ax[0].barh(entities.keys(), entities.values(), color=\"cornflowerblue\", ec='black')\n",
    "ax[0].bar_label(bars)\n",
    "ax[0].set_title(\"Entity counts\")\n",
    "\n",
    "ax[1].hist(entities_per_text, color='lightgreen', ec='black', bins=np.max(entities_per_text))\n",
    "ax[1].set_title(\"Entites per text density\")\n",
    "ax[1].xaxis.set_ticks(np.arange(0, max(entities_per_text) + 1))\n",
    "\n",
    "ax[2].hist(text_lens, color='lightgreen', ec='black', bins=50)\n",
    "ax[2].set_title(\"Text lengths density (n symbols)\")\n",
    "ax[2].xaxis.set_ticks(np.arange(0, max(text_lens) + 1, step=30))\n",
    "plt.show()"
   ]
  },
  {
   "cell_type": "code",
   "execution_count": 9,
   "metadata": {},
   "outputs": [],
   "source": [
    "with open(\"../data_processed/entity_names.txt\", \"w\", encoding=\"utf8\") as f:\n",
    "    for i, entity in enumerate(entities.keys()):\n",
    "        if i + 1 != len(entities.keys()):\n",
    "            f.write(f\"{entity} \")\n",
    "        else:\n",
    "            f.write(f\"{entity}\")"
   ]
  },
  {
   "cell_type": "markdown",
   "metadata": {},
   "source": [
    "# Просмотр примеров именованных сущностей"
   ]
  },
  {
   "cell_type": "code",
   "execution_count": 10,
   "metadata": {},
   "outputs": [],
   "source": [
    "entity_examples = {}\n",
    "for sample in data:\n",
    "    for entity in sample[\"entities\"]:\n",
    "        if entity['entity_group'] not in entity_examples.keys():\n",
    "            entity_examples[entity['entity_group']] = []\n",
    "        entity_examples[entity['entity_group']].append(entity['word'])"
   ]
  },
  {
   "cell_type": "code",
   "execution_count": 11,
   "metadata": {},
   "outputs": [
    {
     "name": "stdout",
     "output_type": "stream",
     "text": [
      "TELEPHONE:\n",
      "['+7 010 618 1753', '+7 010 618 1753', '+7 010 618 1753', '+7 010 618 1753', '+7 010 618 1753', '+7 010 618 1753', '+7 010 618 1753', '+7 010 618 1753', '+7 010 618 1753', '+7 010 618 1753'] \n",
      "\n",
      "ACRONYM:\n",
      "['MVU', 'KIT', 'VLF', 'WNQ', 'WNQ', 'YLJ', 'RMV', 'RMV', 'YLJ', 'WRL'] \n",
      "\n",
      "NAME:\n",
      "['Елисеева Олимпиада Максимовна', 'Колесников Селиверст Харламович', 'Григорьев Зиновий Александрович', 'Агафон Егорович Селиверстов', 'Егор Гертрудович Голубев', 'Пестов Порфирий Эдгардович', 'Князева Оксана Ефимовна', 'Андроник Тарасович Молчанов', 'Юлий Алексеевич Галкин', 'Гуляев Самсон Венедиктович'] \n",
      "\n",
      "MAIL:\n",
      "['ribakovapolina@zao.info', 'erofesafonov@boes.info', 'fdoronin@tsvetkova.com', 'klavdi_2003@nesterova.ru', 'kulikovapollon@novosibirskenergosbit.ru', 'krasilnikovamos@gruppa.edu', 'potap64@npo.biz', 'potap64@npo.biz', 'potap64@npo.biz', 'julian99@kazakov.org'] \n",
      "\n",
      "LINK:\n",
      "['http://rao.org/', 'https://www.potapova.org/', 'https://www.potapova.org/', 'http://ao.net/', 'https://obedinennaja.biz/', 'http://www.rao.net/', 'http://gruppa.org/', 'https://zao.ru/', 'http://www.filatov.biz/', 'https://www.gruppa.net/'] \n",
      "\n",
      "ORG:\n",
      "['САМ-МБ', 'САМ-МБ', 'САМ-МБ', 'Авилон АГ', 'Кока-Кола Эйчбиси Евразия (Coca-Cola)', 'ГК Титан', \"Группа О'кей\", \"Группа О'кей\", 'СК Согласие', 'СК Согласие'] \n",
      "\n",
      "TECH:\n",
      "['GogolGadget', 'SKC', 'OZP', 'ChekhovChain', 'DruzhbaDrive', 'TLP', 'DruzhbaDrive', 'PushkinProcessor', 'TundraTrack', 'DQY'] \n",
      "\n",
      "DATE:\n",
      "['26.09.2022', '09.11.2022', '25.03.2008', '07.06.2005', '17.06.2009', '26.07.2023', '30.07.2017', '30.07.2017', '18.08.2000', '06.01.2021'] \n",
      "\n",
      "NUM:\n",
      "['989', '5861', '7457', '6736', '848', '218', 'cwZZ8719', 'cwZZ8719', 'AkWl4550', 'gWpd3144'] \n",
      "\n",
      "NAME_EMPLOYEE:\n",
      "['Тарасов Арефий Григорьевич', 'Варвара Васильевна Беляева', 'Василиса Мироновна Прохорова', 'Татьяна Геннадиевна Самсонова', 'Герасимов Ипполит Ерофеевич', 'Афиноген Филиппович Стрелков', 'тов. Шубина Лидия Ждановна', 'Богданов Кирилл Ануфриевич', 'Герасимов Ипполит Ерофеевич', 'Афиноген Филиппович Стрелков'] \n",
      "\n",
      "PERCENT:\n",
      "['33.46%', '81.44%', '6.24%', '98.16%', '33.46%', '98.16%', '98.16%', '96.7%', '96.7%', '96.7%'] \n",
      "\n"
     ]
    }
   ],
   "source": [
    "for example_name, example_vals in entity_examples.items():\n",
    "    print(f\"{example_name}:\")\n",
    "    print(example_vals[:10], \"\\n\")"
   ]
  },
  {
   "cell_type": "markdown",
   "metadata": {},
   "source": [
    "Можно заметить, что некоторые сущности не очень разнообразны по своим возможным значениям:"
   ]
  },
  {
   "cell_type": "code",
   "execution_count": 12,
   "metadata": {},
   "outputs": [
    {
     "name": "stdout",
     "output_type": "stream",
     "text": [
      "---TELEPHONE---\n",
      "7 unique samples:\n",
      "{'+7 010 618 1753': 166, '+7 192 927 5243': 1, '8 (280) 512-92-76': 1, '8 372 395 04 10': 1, '+7 281 442 94 44': 1, '+7 (767) 478-36-67': 1, '+72860476580': 1}\n",
      "\n",
      "---ACRONYM---\n",
      "59 unique samples:\n",
      "{'RMV': 25, 'HMN': 15, 'ZSQ': 15, 'WNQ': 6, 'WRL': 6, 'QHJ': 6, 'YTM': 6, 'CYU': 5, 'MDW': 5, 'KIT': 4, 'VLP': 4, 'VBX': 4, 'FNG': 4, 'EOL': 4, 'TSJ': 4, 'MVU': 3, 'YLJ': 3, 'SUK': 3, 'TBQ': 3, 'RKT': 3, 'VLF': 2, 'MUW': 2, 'QRM': 2, 'CFV': 2, 'NTU': 2, 'OJE': 2, 'NWN': 2, 'HNV': 2, 'GUU': 2, 'ZPD': 2, 'MGL': 2, 'WXL': 2, 'GMX': 1, 'VJZ': 1, 'UQK': 1, 'QJG': 1, 'RDJ': 1, 'HMU': 1, 'UIG': 1, 'QQU': 1, 'SOG': 1, 'NDE': 1, 'KBY': 1, 'IZG': 1, 'KPR': 1, 'QGN': 1, 'CQL': 1, 'COL': 1, 'GZD': 1, 'MTT': 1, 'EOX': 1, 'PNQ': 1, 'TFS': 1, 'XUY': 1, 'RFK': 1, 'GKD': 1, 'BDA': 1, 'CZV': 1, 'HZT': 1}\n",
      "\n",
      "---NAME---\n",
      "12 unique samples:\n",
      "{'Гуляев Самсон Венедиктович': 2, 'Елисеева Олимпиада Максимовна': 1, 'Колесников Селиверст Харламович': 1, 'Григорьев Зиновий Александрович': 1, 'Агафон Егорович Селиверстов': 1, 'Егор Гертрудович Голубев': 1, 'Пестов Порфирий Эдгардович': 1, 'Князева Оксана Ефимовна': 1, 'Андроник Тарасович Молчанов': 1, 'Юлий Алексеевич Галкин': 1, 'Панов Андроник Демьянович': 1, 'Афанасьева Алина Федоровна': 1}\n",
      "\n",
      "---MAIL---\n",
      "26 unique samples:\n",
      "{'potap64@npo.biz': 6, 'julian99@kazakov.org': 3, 'parfen95@zao.biz': 2, 'gorbachevfeoktist@zao.info': 2, 'jakovaksenov@rao.edu': 2, 'ribakovapolina@zao.info': 1, 'erofesafonov@boes.info': 1, 'fdoronin@tsvetkova.com': 1, 'klavdi_2003@nesterova.ru': 1, 'kulikovapollon@novosibirskenergosbit.ru': 1, 'krasilnikovamos@gruppa.edu': 1, 'wpavlova@strogazmontazh.com': 1, 'anatoli_14@ip.edu': 1, 'mishinparfen@titov.info': 1, 'leonid74@uralo-sibirskaja.ru': 1, 'ilinkir@zao.com': 1, 'julipavlov@zao.org': 1, 'bojan_1996@dochki-sinochki.edu': 1, 'kozlovruben@obedinennaja.org': 1, 'avtonomkabanov@ooo.edu': 1, 'timofeevladimir@ilina.edu': 1, 'andreevalora@npo.net': 1, 'shchukinadarja@ip.org': 1, 'savvati2013@td.info': 1, 'isaevrodion@avdeeva.info': 1, 'vbobileva@oao.biz': 1}\n",
      "\n",
      "---LINK---\n",
      "46 unique samples:\n",
      "{'http://gruppa.org/': 7, 'http://www.oao.biz/': 5, 'https://www.potapova.org/': 2, 'https://obedinennaja.biz/': 2, 'https://zao.ru/': 2, 'https://www.rao.org/': 2, 'http://rao.biz/': 2, 'https://ao.net/': 2, 'https://ao.biz/': 2, 'https://www.rao.ru/': 2, 'http://strelkov.net/': 2, 'https://ip.edu/': 2, 'https://www.rjabova.biz/': 2, 'https://tehinkom.info/': 2, 'http://rao.org/': 1, 'http://ao.net/': 1, 'http://www.rao.net/': 1, 'http://www.filatov.biz/': 1, 'https://www.gruppa.net/': 1, 'http://www.ip.biz/': 1, 'http://www.rao.com/': 1, 'https://ip.org/': 1, 'https://www.ip.edu/': 1, 'https://rao.biz/': 1, 'https://ip.net/': 1, 'https://www.martinov.com/': 1, 'https://moiseeva.net/': 1, 'http://www.sogaz.org/': 1, 'http://ip.ru/': 1, 'http://npo.ru/': 1, 'http://www.zao.org/': 1, 'http://www.fsk.info/': 1, 'https://borisova.com/': 1, 'http://zao.org/': 1, 'https://komos.ru/': 1, 'http://oao.biz/': 1, 'http://www.kompanija.edu/': 1, 'https://www.oao.info/': 1, 'https://burger.info/': 1, 'https://rodionov.com/': 1, 'https://www.zao.biz/': 1, 'https://www.oao.com/': 1, 'https://rao.edu/': 1, 'http://yakushev.edu/': 1, 'http://mms.org/': 1, 'https://borisova.ru/': 1}\n",
      "\n",
      "---ORG---\n",
      "37 unique samples:\n",
      "{'СК Согласие': 59, \"Группа О'кей\": 25, 'Авилон АГ': 18, 'САМ-МБ': 12, 'Ферронордик машины (Ferronordic)': 11, 'Кока-Кола Эйчбиси Евразия (Coca-Cola)': 9, 'ТК Шлюмберже (Schlumberger)': 8, 'ГК Агро-Белогорье': 8, 'ФГ Будущее': 7, 'ГК Титан': 4, 'Азур Эйр': 4, 'Слата супермаркет': 3, 'Группа ГМС': 3, 'Порше Руссланд (Porsche)': 2, 'Корпорация Гринн': 2, 'Merlion': 2, 'Railgo': 2, 'ВТБ': 1, 'Банк Уралсиб': 1, 'БСХ Бытовые приборы (BSH Hausgerate)': 1, 'Российская электроника': 1, 'Агросила Групп': 1, 'En +': 1, 'Омега Групп': 1, 'Продимекс-Холдинг': 1, 'СНПХ': 1, 'Национальная компьютерная корпорация': 1, 'Сегежа': 1, 'Вольво Карс (Zhejiang Geely)': 1, 'Восточная горнорудная компания': 1, 'Трест КХМ': 1, 'Концерн Титан-2': 1, 'Несте Санкт-Петербург (Neste)': 1, 'Метрострой': 1, 'Стройтранснефтегаз': 1, 'ГК Транстехсервис': 1, 'НПФ Газфонд пенсионные накопления': 1}\n",
      "\n",
      "---TECH---\n",
      "58 unique samples:\n",
      "{'SKC': 38, 'OZP': 32, 'ChekhovChain': 27, 'PLQ': 16, 'TLP': 15, 'PushkinProcessor': 15, 'DQY': 15, 'YGL': 14, 'APL': 9, 'IJFSystems': 9, 'SlaviaSoftware': 9, 'OTX': 9, 'TurgenevTech': 8, 'RusalkaRobotics': 8, 'GogolGadget': 7, 'PolyusData': 7, 'KTD': 7, 'LYD': 7, 'ZMV': 6, 'SiberiaSync': 6, 'JHX': 6, 'SFB': 6, 'QBH': 6, 'RQN': 5, 'UMC': 5, 'KazanKode': 5, 'HBC': 5, 'DostoevskyData': 5, 'NXI': 5, 'GagarinGrid': 4, 'QQA': 3, 'FME': 3, 'BaltikaBase': 3, 'KosmoCode': 3, 'WYK': 3, 'KvantumKore': 3, 'VolgaVault': 3, 'DruzhbaDrive': 2, 'ZaryaZone': 2, 'BaikalByte': 2, 'VostokVision': 2, 'EYR': 2, 'ZLO': 2, 'BGI': 2, 'GVR': 2, 'RubleRoute': 2, 'TundraTrack': 1, 'HGT': 1, 'AeroFlotNet': 1, 'EurasiaEngine': 1, 'OrbitaLink': 1, 'ZemlyaZone': 1, 'XQM': 1, 'StrelkaStream': 1, 'БуранSoft': 1, 'BelkaBot': 1, 'QuantumГрад': 1, 'LRS': 1}\n",
      "\n",
      "---DATE---\n",
      "57 unique samples:\n",
      "{'22.07.2008': 21, '05.03.2003': 4, '14.11.2004': 4, '16.09.2000': 4, '06.06.2023': 4, '11.07.2004': 4, '03.03.2003': 4, '26.07.2023': 3, '31.07.2016': 3, '19.08.2001': 3, '28.04.2009': 3, '10.06.2000': 3, '30.07.2017': 2, '18.08.2000': 2, '21.06.2016': 2, '30.09.2014': 2, '21.10.2015': 2, '08.08.2013': 2, '26.12.2023': 2, '15.12.2017': 2, '26.09.2022': 1, '09.11.2022': 1, '25.03.2008': 1, '07.06.2005': 1, '17.06.2009': 1, '06.01.2021': 1, '13.07.2016': 1, '18.01.2010': 1, '18.10.2013': 1, '09.04.2010': 1, '10.07.2007': 1, '30.07.2014': 1, '25.10.2010': 1, '18.09.2015': 1, '28.12.2013': 1, '29.04.2003': 1, '22.08.2021': 1, '10.05.2010': 1, '18.07.2018': 1, '22.10.2003': 1, '13.04.2023': 1, '02.07.2013': 1, '31.10.2012': 1, '29.04.2017': 1, '07.06.2004': 1, '04.07.2003': 1, '04.09.2007': 1, '23.02.2023': 1, '16.03.2006': 1, '15.10.2019': 1, '12.10.2017': 1, '29.08.2003': 1, '24.06.2016': 1, '09.11.2014': 1, '01.08.2014': 1, '24.07.2005': 1, '17.08.2000': 1}\n",
      "\n",
      "---NUM---\n",
      "48 unique samples:\n",
      "{'989': 9, 'zEap3022': 4, '5728': 4, '4432': 4, '637': 3, '218': 2, 'cwZZ8719': 2, '237': 2, 'oVJl7529': 2, 'Etve1637': 2, '5861': 1, '7457': 1, '6736': 1, '848': 1, 'AkWl4550': 1, 'gWpd3144': 1, '5018': 1, 'HOhF4930': 1, '4799': 1, 'pgWr6655': 1, 'ZUIZ8277': 1, 'eeCX4818': 1, 'AcCm4039': 1, 'wxPd4979': 1, 'BJJT3723': 1, '270': 1, '868': 1, '6517': 1, 'IKYn3690': 1, 'uEtk6634': 1, '5800': 1, '6016': 1, '1612': 1, '3805': 1, '8512': 1, '9603': 1, '9332': 1, '715': 1, '4388': 1, 'hkAn1012': 1, 'OguI1537': 1, 'dFIK2109': 1, 'qaiP5476': 1, '25': 1, '2752': 1, '401': 1, '2249': 1, 'KfoB8924': 1}\n",
      "\n",
      "---NAME_EMPLOYEE---\n",
      "13 unique samples:\n",
      "{'Герасимов Ипполит Ерофеевич': 2, 'Афиноген Филиппович Стрелков': 2, 'тов. Шубина Лидия Ждановна': 2, 'Тарасов Арефий Григорьевич': 1, 'Варвара Васильевна Беляева': 1, 'Василиса Мироновна Прохорова': 1, 'Татьяна Геннадиевна Самсонова': 1, 'Богданов Кирилл Ануфриевич': 1, 'Мариан Ануфриевич Осипов': 1, 'Иванна Вячеславовна Быкова': 1, 'Гущин Евстигней Тимурович': 1, 'Емельянов Велимир Викторович': 1, 'Горбунова Екатерина Юрьевна': 1}\n",
      "\n",
      "---PERCENT---\n",
      "9 unique samples:\n",
      "{'96.7%': 6, '6.24%': 5, '28.36%': 5, '33.46%': 4, '98.16%': 4, '22.06%': 4, '81.44%': 3, '93.22%': 2, '61.26%': 1}\n",
      "\n"
     ]
    }
   ],
   "source": [
    "counts = {}\n",
    "for example_name, example_vals in entity_examples.items():\n",
    "\n",
    "    current_counts = {}\n",
    "    for ex_val in example_vals:\n",
    "        if ex_val not in current_counts.keys():\n",
    "            current_counts[ex_val] = 0\n",
    "        \n",
    "        current_counts[ex_val] +=1\n",
    "\n",
    "    current_counts = {k: v for k, v in sorted(current_counts.items(), key=lambda item: item[1], reverse=True)}\n",
    "    counts[example_name] = current_counts\n",
    "\n",
    "for key, count_dict in counts.items():\n",
    "    print(f\"---{key}---\")\n",
    "    print(f\"{len(count_dict)} unique samples:\")\n",
    "    print(count_dict)\n",
    "    print()\n",
    "\n"
   ]
  }
 ],
 "metadata": {
  "kernelspec": {
   "display_name": ".venv",
   "language": "python",
   "name": "python3"
  },
  "language_info": {
   "codemirror_mode": {
    "name": "ipython",
    "version": 3
   },
   "file_extension": ".py",
   "mimetype": "text/x-python",
   "name": "python",
   "nbconvert_exporter": "python",
   "pygments_lexer": "ipython3",
   "version": "3.10.9"
  }
 },
 "nbformat": 4,
 "nbformat_minor": 2
}
